{
 "cells": [
  {
   "cell_type": "markdown",
   "metadata": {},
   "source": [
    "# PROJECT OVERVIEW"
   ]
  },
  {
   "cell_type": "markdown",
   "metadata": {},
   "source": [
    "In this project, I will be doing data cleaning ,imputation,analysis and visualization so as to come up with clear insights to be able to advice appropriately what conciderations the company should put in place in purchasing of an aircraft"
   ]
  },
  {
   "cell_type": "markdown",
   "metadata": {},
   "source": [
    "## Business understanding"
   ]
  },
  {
   "cell_type": "markdown",
   "metadata": {},
   "source": [
    "The company is diversifying its holdings by entering new markets. In particular, despite their ignorance of the possible hazards associated with aircraft, they are interested in buying and running aircraft for both individual and commercial businesses.I am tasked with identifying the airplanes that pose the least danger to the corporation in order to launch this new venture."
   ]
  },
  {
   "cell_type": "markdown",
   "metadata": {},
   "source": [
    "# Data"
   ]
  },
  {
   "cell_type": "markdown",
   "metadata": {},
   "source": [
    "I will be using a dataset with a csv file \"AviationData.csv\" from the National Transportation Safety Board that includes aviation accident data from 1962 to 2023 about civil aviation accidents and selected incidents in the United States and international waters. I will clean the dataset and come up with up to date a more clear and cleaned up data backed up with multiple visualizations so that I can make informed dicisions."
   ]
  },
  {
   "cell_type": "markdown",
   "metadata": {},
   "source": [
    "# Keypoints"
   ]
  },
  {
   "cell_type": "markdown",
   "metadata": {},
   "source": [
    "The primary goal for this analysis is yielding Business Recommendations.The main goal of handling missing values, combining, and visualizing data is to support data-driven decision-making within my company. By offering suggestions on how the company should proceed with the new aviation potential, you will connect your findings to business intelligence.\n",
    "\n",
    "Effective communication regarding this analysis is crucial. I will explain what I have done and why it is valuable to the company.\n",
    "\n",
    "In order to explore data and make my findings understandable to a non-technical audience, I will make extensive use of visualizations. In my presentation, I will only highlight images that directly bolster my suggestions. The most effective visualizations are typically simple ones, like line graphs and bar charts, and I'll make sure they're formatted correctly with distinct titles and labels."
   ]
  },
  {
   "cell_type": "markdown",
   "metadata": {},
   "source": [
    "Name: SYDNEY WERE OSUNDWA\n",
    "\n",
    "TECHNICAL MENTOR: MWIKALI"
   ]
  },
  {
   "cell_type": "markdown",
   "metadata": {},
   "source": [
    "# Setting up the tools to be used for this analysis"
   ]
  },
  {
   "cell_type": "code",
   "execution_count": null,
   "metadata": {},
   "outputs": [],
   "source": [
    "import pandas as pd\n",
    "import numpy as np \n",
    "import matplotlib.pyplot as plt\n",
    "import seaborn as sns\n",
    "%matplolib.inline\n",
    "from pandas.errors import DtypeWarning\n",
    "\n",
    "warnings.filterwarnings(\"ignore\", category=DtypeWarning)"
   ]
  },
  {
   "cell_type": "markdown",
   "metadata": {},
   "source": [
    "# load the dataset"
   ]
  },
  {
   "cell_type": "code",
   "execution_count": null,
   "metadata": {},
   "outputs": [],
   "source": [
    "#this reads the dataset that I want to work on\n",
    "df = pd.read_csv(\"AviationData.csv\",encoding = 'Windows-1252',)"
   ]
  },
  {
   "cell_type": "markdown",
   "metadata": {},
   "source": [
    "# Inspection of the dataset"
   ]
  },
  {
   "cell_type": "code",
   "execution_count": 12,
   "metadata": {},
   "outputs": [],
   "source": [
    "#This give an outline of the first 5 rows of the dataset\n",
    "#df.head()"
   ]
  },
  {
   "cell_type": "code",
   "execution_count": 11,
   "metadata": {},
   "outputs": [],
   "source": [
    "#This give an outline of the last 5 rows of the dataset"
   ]
  },
  {
   "cell_type": "code",
   "execution_count": null,
   "metadata": {},
   "outputs": [],
   "source": []
  },
  {
   "cell_type": "code",
   "execution_count": null,
   "metadata": {},
   "outputs": [],
   "source": []
  },
  {
   "cell_type": "code",
   "execution_count": null,
   "metadata": {},
   "outputs": [],
   "source": []
  }
 ],
 "metadata": {
  "kernelspec": {
   "display_name": "Python (learn-env)",
   "language": "python",
   "name": "learn-env"
  },
  "language_info": {
   "codemirror_mode": {
    "name": "ipython",
    "version": 3
   },
   "file_extension": ".py",
   "mimetype": "text/x-python",
   "name": "python",
   "nbconvert_exporter": "python",
   "pygments_lexer": "ipython3",
   "version": "3.8.5"
  }
 },
 "nbformat": 4,
 "nbformat_minor": 5
}
